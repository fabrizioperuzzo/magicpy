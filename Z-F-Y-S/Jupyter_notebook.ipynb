{
 "cells": [
  {
   "cell_type": "code",
   "execution_count": 1,
   "metadata": {},
   "outputs": [
    {
     "name": "stdout",
     "output_type": "stream",
     "text": [
      "START!!!\n",
      "C:\\Users\\fabri\\PycharmProjects\\magicpy\\Z-F-Y-S\n",
      "C:\\Users\\fabri\\PycharmProjects\\magicpy\n"
     ]
    }
   ],
   "source": [
    "#!/usr/bin/python3.7\n",
    "##########    form yahoo open close giornaliero (non continuo) #######################\n",
    "#######         plot trend in aumento su 3 anni e su 3 mesi            ###############\n",
    "\n",
    "\n",
    "\n",
    "# Inserire un coefficiente di volatilità\n",
    "# Inserire trend logaritmici ed esponenziali per valutare la crescita\n",
    "\n",
    "\n",
    "from threading import Thread\n",
    "import time\n",
    "import pandas_datareader.data as web\n",
    "import pandas as pd\n",
    "import numpy as np\n",
    "from sklearn.linear_model import LinearRegression\n",
    "import time\n",
    "from datetime import datetime\n",
    "import matplotlib.pyplot as plt\n",
    "#from iex import reference\n",
    "import datetime as dt\n",
    "import matplotlib.dates as mdates\n",
    "import matplotlib.ticker as mticker\n",
    "plt.style.use('ggplot')\n",
    "import sys\n",
    "import os\n",
    "import shutil\n",
    "#%matplotlib inline\n",
    "import warnings\n",
    "warnings.filterwarnings('ignore')\n",
    "import mammoth\n",
    "#pip3.7 install --user python-docx\n",
    "from docx import Document\n",
    "from docx.shared import Inches\n",
    "from docx.enum.text import WD_ALIGN_PARAGRAPH\n",
    "import pickle\n",
    "import h5py\n",
    "import dateutil.relativedelta\n",
    "import dateutil.relativedelta as datdelta\n",
    "\n",
    "\n",
    "###  Import the external Class and functions\n",
    "from yahoo_scan import Yahoo_Scan\n",
    "from retrieve_symb import retrieve_symb_list\n",
    "#\n",
    "\n",
    "print('START!!!')\n",
    "\n",
    "print(os.getcwd())\n",
    "print(os.path.dirname(os.getcwd()))"
   ]
  },
  {
   "cell_type": "code",
   "execution_count": 2,
   "metadata": {},
   "outputs": [],
   "source": [
    "ist1 = Yahoo_Scan('PBF','01/01/2006','d',1)"
   ]
  },
  {
   "cell_type": "code",
   "execution_count": 3,
   "metadata": {},
   "outputs": [
    {
     "data": {
      "text/plain": [
       "Index(['index', 'High', 'Low', 'Open', 'Close', 'Volume', 'Adj Close',\n",
       "       'datestamp', 'timestamp', 'day_perf', 'day_perf_x100', 'Open_p',\n",
       "       'Close_p', 'Open_p2', 'Close_p2', 'Open_p5', 'Close_p5', 'Open_p10',\n",
       "       'Close_p10', 'Volume_p', 'ema12', 'ema26', 'macd', 'signal',\n",
       "       'histogram', 'DVolume', 'ema12v', 'ema26v', 'macdv', 'signalv',\n",
       "       'histogramv', 'Overnight', 'Dgain', 'Tgain_', 'Dgain_p', 'Dgain_p2',\n",
       "       'Dgain_p5', 'Dgain_p10', 'MDgain_p1', 'MDgain_p2', 'MDgain_p5',\n",
       "       'MDgain_p10', 'histogram_p', 'hist_trend', 'hist_peack', 'hist_trend_p',\n",
       "       'hist_changepoint', 'maxday', 'daytype', 'deltaday', 'low_err',\n",
       "       'y_pred_l', 'high_err', 'y_pred_h'],\n",
       "      dtype='object')"
      ]
     },
     "execution_count": 3,
     "metadata": {},
     "output_type": "execute_result"
    }
   ],
   "source": [
    "ist1.df_all.columns"
   ]
  },
  {
   "cell_type": "code",
   "execution_count": 4,
   "metadata": {},
   "outputs": [],
   "source": [
    "ist1.df_all = ist1.df_all[ist1.df_all.index > ('01-03-2019')]"
   ]
  },
  {
   "cell_type": "code",
   "execution_count": 5,
   "metadata": {},
   "outputs": [
    {
     "ename": "ModuleNotFoundError",
     "evalue": "No module named 'mplfinance'",
     "output_type": "error",
     "traceback": [
      "\u001b[1;31m---------------------------------------------------------------------------\u001b[0m",
      "\u001b[1;31mModuleNotFoundError\u001b[0m                       Traceback (most recent call last)",
      "\u001b[1;32m<ipython-input-5-58eece9baf6f>\u001b[0m in \u001b[0;36m<module>\u001b[1;34m\u001b[0m\n\u001b[0;32m      5\u001b[0m \u001b[1;32mfrom\u001b[0m \u001b[0mdatetime\u001b[0m \u001b[1;32mimport\u001b[0m \u001b[0mdatetime\u001b[0m\u001b[1;33m\u001b[0m\u001b[1;33m\u001b[0m\u001b[0m\n\u001b[0;32m      6\u001b[0m \u001b[1;31m#from mpl_finance import candlestick2_ohlc\u001b[0m\u001b[1;33m\u001b[0m\u001b[1;33m\u001b[0m\u001b[1;33m\u001b[0m\u001b[0m\n\u001b[1;32m----> 7\u001b[1;33m \u001b[1;32mimport\u001b[0m \u001b[0mmplfinance\u001b[0m\u001b[1;33m\u001b[0m\u001b[1;33m\u001b[0m\u001b[0m\n\u001b[0m\u001b[0;32m      8\u001b[0m \u001b[1;31m# use the old mplfinance\u001b[0m\u001b[1;33m\u001b[0m\u001b[1;33m\u001b[0m\u001b[1;33m\u001b[0m\u001b[0m\n\u001b[0;32m      9\u001b[0m \u001b[1;32mfrom\u001b[0m \u001b[0mmplfinance\u001b[0m\u001b[1;33m.\u001b[0m\u001b[0moriginal_flavor\u001b[0m \u001b[1;32mimport\u001b[0m \u001b[0mcandlestick2_ohlc\u001b[0m\u001b[1;33m\u001b[0m\u001b[1;33m\u001b[0m\u001b[0m\n",
      "\u001b[1;31mModuleNotFoundError\u001b[0m: No module named 'mplfinance'"
     ]
    }
   ],
   "source": [
    "%matplotlib inline\n",
    "import numpy as np \n",
    "from techindicators import * # This line imports all functions from techindicators.py\n",
    "import matplotlib.pyplot as plt\n",
    "from datetime import datetime\n",
    "#from mpl_finance import candlestick2_ohlc\n",
    "import mplfinance\n",
    "# use the old mplfinance\n",
    "from mplfinance.original_flavor import candlestick2_ohlc"
   ]
  },
  {
   "cell_type": "code",
   "execution_count": null,
   "metadata": {},
   "outputs": [],
   "source": [
    "ticker=ist1.stock\n",
    "sd_open = np.array(ist1.df_all.iloc[:,2]) # Open\n",
    "sd_high = np.array(ist1.df_all.iloc[:,0]) # High\n",
    "sd_low = np.array(ist1.df_all.iloc[:,1]) # Low\n",
    "sd_close = np.array(ist1.df_all.iloc[:,3]) # Close\n",
    "sd_volume = np.array(ist1.df_all.iloc[:,4]) # Volume\n",
    "sd_dates = np.array(ist1.df_all.index).astype('datetime64[D]') # ('example_data.csv', delimiter=',', usecols=(0), dtype='datetime64[D]') # Dates\n",
    "tradedays = np.arange(len(sd_close)) # Array of number of trading days"
   ]
  },
  {
   "cell_type": "code",
   "execution_count": null,
   "metadata": {},
   "outputs": [],
   "source": []
  },
  {
   "cell_type": "code",
   "execution_count": null,
   "metadata": {},
   "outputs": [],
   "source": [
    "sma50 = sma(sd_close,50) # calculate 50 day SMA of closing price\n",
    "ema20 = ema(sd_close,20) # calculate 20 day EMA of closing price\n",
    "wma50 = wma(sd_close,50) # calculated 50 day WMA of closing price\n",
    "kama_sd = kama(sd_close,10,2,30) # calculate standard Kaufman adaptive moving average"
   ]
  },
  {
   "cell_type": "code",
   "execution_count": null,
   "metadata": {},
   "outputs": [],
   "source": [
    "# plot daily closing price of SPY along with 50-day SMA, 20-day EMA, and KAMA\n",
    "fig, ax = plt.subplots(figsize=(15,8))\n",
    "ax.plot(sd_dates.astype(datetime),sd_close,color='green',lw=2,label=\"Close\")\n",
    "ax.plot(sd_dates[len(sd_dates)-len(sma50):].astype(datetime),sma50,color='red',lw=2,label='50-Day SMA')\n",
    "ax.plot(sd_dates[len(sd_dates)-len(wma50):].astype(datetime),wma50,color='darkcyan',lw=2,label='50-Day WMA')\n",
    "ax.plot(sd_dates[len(sd_dates)-len(ema20):].astype(datetime),ema20,color='blue',lw=2,label='20-Day EMA')\n",
    "ax.plot(sd_dates[len(sd_dates)-len(kama_sd):].astype(datetime),kama_sd,color='black',lw=2,label='KAMA')\n",
    "ax.set_title(ticker,fontsize=25)\n",
    "ax.set_xlabel('Date',fontsize=18)\n",
    "ax.set_ylabel('Price ($)',fontsize=18)\n",
    "ax.set_xlim([dt.date(2020, 1, 1), dt.date.today()])\n",
    "ax.legend(loc='best', frameon=True, fancybox=True, framealpha=0.95, fontsize=18, facecolor='#D9DDE1')\n",
    "fig.autofmt_xdate()\n",
    "ax.grid(color='gray', linestyle='--', linewidth=1)\n",
    "plt.yticks(fontsize=14)\n",
    "plt.xticks(fontsize=14)\n",
    "plt.show()"
   ]
  },
  {
   "cell_type": "code",
   "execution_count": null,
   "metadata": {},
   "outputs": [],
   "source": [
    "macd_line_sd = macd(sd_close,12,26,9)[0]\n",
    "macd_signal_sd = macd(sd_close,12,26,9)[1]\n",
    "macd_histogram_sd = macd_line_sd[len(macd_line_sd)-len(macd_signal_sd):]-macd_signal_sd"
   ]
  },
  {
   "cell_type": "code",
   "execution_count": null,
   "metadata": {},
   "outputs": [],
   "source": [
    "fig, ax = plt.subplots(figsize=(15,4))\n",
    "ax.plot(tradedays[len(tradedays)-len(macd_line_sd):],macd_line_sd,color='green',lw=2,label=\"Line\")\n",
    "ax.plot(tradedays[len(tradedays)-len(macd_signal_sd):],macd_signal_sd,color='red',lw=2,label=\"Signal\")\n",
    "ax.set_title('MACD (12,26,9) for %s' % ticker,fontsize=20)\n",
    "ax.set_xlabel('Trading Days in 2017',fontsize=18)\n",
    "ax.set_ylabel('',fontsize=18)\n",
    "ax.legend(loc='best', frameon=True, fancybox=True, framealpha=0.95, fontsize=16, facecolor='#D9DDE1')\n",
    "ax.grid(color='gray', linestyle='--', linewidth=1)\n",
    "ax.set_xlim([tradedays[len(tradedays)-len(macd_line_sd):].max()-365,tradedays[len(tradedays)-len(macd_line_sd):].max()])\n",
    "plt.yticks(fontsize=14)\n",
    "plt.xticks(fontsize=14)\n",
    "plt.show()"
   ]
  },
  {
   "cell_type": "code",
   "execution_count": null,
   "metadata": {},
   "outputs": [],
   "source": [
    "fig, ax = plt.subplots(figsize=(15,4))\n",
    "ax.bar(tradedays[len(tradedays)-len(macd_histogram_sd):],macd_histogram_sd,label=\"MACD Histogram\")\n",
    "ax.set_title(ticker,fontsize=20)\n",
    "ax.set_xlabel('Trading Days in 2017',fontsize=18)\n",
    "ax.set_ylabel('',fontsize=18)\n",
    "ax.legend(loc='best', frameon=True, fancybox=True, framealpha=0.95, fontsize=14, facecolor='#D9DDE1')\n",
    "ax.grid(color='gray', linestyle='--', linewidth=1)\n",
    "ax.set_xlim([tradedays[len(tradedays)-len(macd_line_sd):].max()-365,tradedays[len(tradedays)-len(macd_line_sd):].max()])\n",
    "plt.yticks(fontsize=14)\n",
    "plt.xticks(fontsize=14)\n",
    "plt.show()"
   ]
  },
  {
   "cell_type": "code",
   "execution_count": null,
   "metadata": {},
   "outputs": [],
   "source": [
    "chand_long = chand(sd_high,sd_low,sd_close,22,3,'long')\n",
    "chand_short = chand(sd_high,sd_low,sd_close,22,3,'short')"
   ]
  },
  {
   "cell_type": "code",
   "execution_count": null,
   "metadata": {},
   "outputs": [],
   "source": [
    "ist1.df_all.shape"
   ]
  },
  {
   "cell_type": "code",
   "execution_count": null,
   "metadata": {},
   "outputs": [],
   "source": [
    "ist1.df_all['chand_short'] = 0\n",
    "ist1.df_all['chand_short'][ist1.df_all.shape[0]-len(chand_short):] = chand_short"
   ]
  },
  {
   "cell_type": "code",
   "execution_count": null,
   "metadata": {},
   "outputs": [],
   "source": [
    "ist1.df_all['diff'] = ist1.df_all['chand_short'] - ist1.df_all['Open'] "
   ]
  },
  {
   "cell_type": "code",
   "execution_count": null,
   "metadata": {},
   "outputs": [],
   "source": [
    "ist1.df_all['diff']"
   ]
  },
  {
   "cell_type": "code",
   "execution_count": null,
   "metadata": {},
   "outputs": [],
   "source": [
    "fig, ax = plt.subplots(figsize=(15,8))\n",
    "ax.set_ylabel('Price ($)')\n",
    "ax.set_xlabel('Date')\n",
    "candlestick2_ohlc(ax,sd_open,sd_high,sd_low,sd_close,width=0.8,colorup='g',colordown='r',alpha=0.75)\n",
    "ax.plot(tradedays[len(sd_dates)-len(chand_short):],chand_short,color='blue',lw=1.5,label='Chandelier Exit (22,3)')\n",
    "ax.set_title('Chandelier Exit for %s Short Position' % ticker,fontsize=20)\n",
    "ax.set_xlabel('Trading Days in 2017',fontsize=18)\n",
    "ax.set_ylabel('Price ($)',fontsize=18)\n",
    "ax.legend(loc='upper left', frameon=True, fancybox=True, framealpha=0.95, fontsize=18, facecolor='#D9DDE1')\n",
    "ax.grid(color='gray', linestyle='--', linewidth=1)\n",
    "plt.yticks(fontsize=14)\n",
    "plt.xticks(fontsize=14)\n",
    "ax.set_xlim([tradedays[len(sd_dates)-len(chand_short):].max()-200,tradedays[len(sd_dates)-len(chand_short):].max()])\n",
    "ax.set_ylim([4,12])\n",
    "fig.autofmt_xdate()\n",
    "fig.tight_layout()\n",
    "plt.show()"
   ]
  },
  {
   "cell_type": "code",
   "execution_count": 7,
   "metadata": {},
   "outputs": [],
   "source": [
    "a = ['ISRG', 'NTAP', 'AMZN', 'ILMN', 'BSX', 'UA', 'HCA', 'GILD', 'UNP', 'AMD', 'PBYI', 'HPQ', 'V', 'CSCO', 'AMGN', 'BA', 'COP', 'CMCSA', 'BMY', 'VZ', 'T', 'UNH', 'MCD', 'PFE', 'ABT', 'FB', 'DIS', 'MMM', 'ORCL', 'PEP', 'HD', 'JMP', 'INTC', 'WFC', 'MRK', 'KO', 'AMZ', 'PG', 'GOOGL', 'WMT', 'CVX', 'JNJ', 'MO', 'IBM', 'GE', 'MSFT', 'AAPL', 'XOM', 'SLB', 'JPM', 'OKTA', 'DLTR', 'MDB', 'FSLY', 'RAD', 'JFU', 'WEN', 'ROKU', 'MIK', 'DDS', 'SAH', 'VSTO', 'NOW', 'EL', 'ANDE', 'PYPL', 'FIVE', 'TEO', 'VXX', 'BAYN.DE', 'TVIX', 'PLUS', 'TPR', 'OIL', 'OSTK', 'NVDA', 'GOLD', 'PCG', 'HSBC', 'BIDU', 'JUVE.MI', 'ULTA', 'PDL.L', 'TEVA', 'CIEN', 'WORK', 'SIG', 'TTM', 'IPGP', 'PAM', 'ZS', 'GME', 'JPC', 'GSAT', 'BX', 'ROG', 'NVS', 'ABBV', 'LLY', 'NVO', 'SNY', 'AZN', 'GSK', 'BIIB', 'BAYN', 'SYK', 'TYO', 'VRTX', 'ZTS', 'REGN', 'BMRN', 'INCY', 'PRGO', 'DXC', 'OMI', 'SWN', 'BIG', 'RLGY', 'ACB', 'ICPT', 'BAS.DE', 'KHC', 'CYH', 'ANF', 'THC', 'ACA.PA', 'ADS.DE', 'ADS', 'SPOT', 'SHOP', 'MAT', 'SCO', 'WLL', 'MUR', 'CLR', 'NEWR', 'USO', 'RIG', 'UGA', 'APA', 'PBF', 'MRO', 'HES', 'ZYNE', 'FDX', 'TA', 'CHWY', 'CDW', 'CVNA', 'RFP', 'RRD', 'MPC', 'JBL', 'GH', 'X', 'AVAV', 'NOG.L', 'CTAS', 'SYNA', 'SQQQ', 'KLAC', 'FE', 'AEE', 'SLV', 'LRCX', 'THG', 'GPI', 'GDX', 'GDXJ', 'IAC', 'MTCH', 'Y', 'SRPT', 'COUP', 'FTCH', 'CRON', 'BYND', 'EVRG', 'NIO', 'AKSO.OL', 'CLLS', 'SCHW', 'MKC', 'BHC', 'NET', 'RNR', 'CNC', 'LYFT', 'ABG', 'RPM', 'TXN', 'UBER', 'CGC', 'IBKR', 'NVR', 'PHM', 'GPRO', 'ROST', 'SYY', 'NKE', 'VEON', 'ASLN', 'HIBB', 'AKBA', 'KZR', 'KRTX', 'SIRI', 'PLTR', 'CUB', 'CODX', 'FOSL']"
   ]
  },
  {
   "cell_type": "code",
   "execution_count": 8,
   "metadata": {},
   "outputs": [
    {
     "data": {
      "text/plain": [
       "42.2"
      ]
     },
     "execution_count": 8,
     "metadata": {},
     "output_type": "execute_result"
    }
   ],
   "source": [
    "len(a)/5"
   ]
  },
  {
   "cell_type": "code",
   "execution_count": 9,
   "metadata": {},
   "outputs": [
    {
     "name": "stdout",
     "output_type": "stream",
     "text": [
      "['ISRG', 'NTAP', 'AMZN', 'ILMN', 'BSX', 'UA', 'HCA', 'GILD', 'UNP', 'AMD', 'PBYI', 'HPQ', 'V', 'CSCO', 'AMGN', 'BA', 'COP', 'CMCSA', 'BMY', 'VZ', 'T', 'UNH', 'MCD', 'PFE', 'ABT', 'FB', 'DIS', 'MMM', 'ORCL', 'PEP', 'HD', 'JMP', 'INTC', 'WFC', 'MRK', 'KO', 'AMZ', 'PG', 'GOOGL', 'WMT', 'CVX', 'JNJ', 'MO', 'IBM', 'GE', 'MSFT', 'AAPL', 'XOM', 'SLB', 'JPM', 'OKTA', 'DLTR', 'MDB', 'FSLY', 'RAD', 'JFU', 'WEN', 'ROKU', 'MIK', 'DDS', 'SAH', 'VSTO', 'NOW', 'EL', 'ANDE', 'PYPL', 'FIVE', 'TEO', 'VXX', 'BAYN.DE', 'TVIX', 'PLUS', 'TPR', 'OIL', 'OSTK', 'NVDA', 'GOLD', 'PCG', 'HSBC', 'BIDU', 'JUVE.MI', 'ULTA', 'PDL.L', 'TEVA', 'CIEN', 'WORK', 'SIG', 'TTM', 'IPGP', 'PAM', 'ZS', 'GME', 'JPC', 'GSAT', 'BX', 'ROG', 'NVS', 'ABBV', 'LLY', 'NVO', 'SNY', 'AZN', 'GSK', 'BIIB', 'BAYN', 'SYK', 'TYO', 'VRTX', 'ZTS', 'REGN', 'BMRN', 'INCY', 'PRGO', 'DXC', 'OMI', 'SWN', 'BIG', 'RLGY', 'ACB', 'ICPT', 'BAS.DE', 'KHC', 'CYH', 'ANF', 'THC', 'ACA.PA', 'ADS.DE', 'ADS', 'SPOT', 'SHOP', 'MAT', 'SCO', 'WLL', 'MUR', 'CLR', 'NEWR', 'USO', 'RIG', 'UGA', 'APA', 'PBF', 'MRO', 'HES', 'ZYNE', 'FDX', 'TA', 'CHWY', 'CDW', 'CVNA', 'RFP', 'RRD', 'MPC', 'JBL', 'GH', 'X', 'AVAV', 'NOG.L', 'CTAS', 'SYNA', 'SQQQ', 'KLAC', 'FE', 'AEE', 'SLV', 'LRCX', 'THG', 'GPI', 'GDX', 'GDXJ', 'IAC', 'MTCH', 'Y', 'SRPT', 'COUP', 'FTCH', 'CRON', 'BYND', 'EVRG', 'NIO', 'AKSO.OL', 'CLLS', 'SCHW', 'MKC', 'BHC', 'NET', 'RNR', 'CNC', 'LYFT', 'ABG', 'RPM', 'TXN', 'UBER', 'CGC', 'IBKR', 'NVR', 'PHM', 'GPRO', 'ROST', 'SYY', 'NKE', 'VEON', 'ASLN', 'HIBB', 'AKBA', 'KZR', 'KRTX', 'SIRI', 'PLTR', 'CUB', 'CODX', 'FOSL']\n"
     ]
    }
   ],
   "source": [
    "print(a)"
   ]
  }
 ],
 "metadata": {
  "kernelspec": {
   "display_name": "Python 3",
   "language": "python",
   "name": "python3"
  },
  "language_info": {
   "codemirror_mode": {
    "name": "ipython",
    "version": 3
   },
   "file_extension": ".py",
   "mimetype": "text/x-python",
   "name": "python",
   "nbconvert_exporter": "python",
   "pygments_lexer": "ipython3",
   "version": "3.8.5"
  }
 },
 "nbformat": 4,
 "nbformat_minor": 2
}
